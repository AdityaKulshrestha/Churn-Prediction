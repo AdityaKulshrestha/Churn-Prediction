{
 "cells": [
  {
   "cell_type": "markdown",
   "id": "61e946a4",
   "metadata": {},
   "source": [
    "## Importing of Libraries"
   ]
  },
  {
   "cell_type": "code",
   "execution_count": 45,
   "id": "ab565322",
   "metadata": {},
   "outputs": [],
   "source": [
    "import pandas as pd \n",
    "import numpy as np \n",
    "import seaborn as sns \n",
    "import matplotlib.pyplot as plt \n",
    "\n",
    "import joblib\n",
    "\n",
    "import warnings\n",
    "\n",
    "from sklearn.model_selection import train_test_split \n",
    "from sklearn.pipeline import make_pipeline\n",
    "from sklearn.model_selection import cross_val_score\n",
    "\n",
    "from sklearn.ensemble import AdaBoostClassifier, RandomForestClassifier \n",
    "from sklearn.naive_bayes import GaussianNB \n",
    "from sklearn.neighbors import KNeighborsClassifier \n",
    "from sklearn.preprocessing import StandardScaler \n",
    "from sklearn.svm import SVC \n",
    "from sklearn.tree import DecisionTreeClassifier \n",
    "\n",
    "from sklearn.metrics import classification_report, roc_auc_score\n",
    "from sklearn.ensemble import VotingClassifier\n",
    "from sklearn.model_selection import RandomizedSearchCV \n",
    "from sklearn.model_selection import cross_val_score, KFold\n",
    "from sklearn.metrics import accuracy_score\n",
    "\n",
    "import xgboost as xgb\n",
    "from catboost import CatBoostClassifier\n",
    "from lightgbm import LGBMClassifier\n",
    "\n",
    "from scipy.stats import uniform, randint"
   ]
  },
  {
   "cell_type": "code",
   "execution_count": 46,
   "id": "8c8bd42d",
   "metadata": {},
   "outputs": [],
   "source": [
    "churn_data = pd.read_excel('./customer_churn_large_dataset.xlsx', index_col = 0)"
   ]
  },
  {
   "cell_type": "code",
   "execution_count": 47,
   "id": "10761470",
   "metadata": {},
   "outputs": [
    {
     "data": {
      "text/html": [
       "<div>\n",
       "<style scoped>\n",
       "    .dataframe tbody tr th:only-of-type {\n",
       "        vertical-align: middle;\n",
       "    }\n",
       "\n",
       "    .dataframe tbody tr th {\n",
       "        vertical-align: top;\n",
       "    }\n",
       "\n",
       "    .dataframe thead th {\n",
       "        text-align: right;\n",
       "    }\n",
       "</style>\n",
       "<table border=\"1\" class=\"dataframe\">\n",
       "  <thead>\n",
       "    <tr style=\"text-align: right;\">\n",
       "      <th></th>\n",
       "      <th>Name</th>\n",
       "      <th>Age</th>\n",
       "      <th>Gender</th>\n",
       "      <th>Location</th>\n",
       "      <th>Subscription_Length_Months</th>\n",
       "      <th>Monthly_Bill</th>\n",
       "      <th>Total_Usage_GB</th>\n",
       "      <th>Churn</th>\n",
       "    </tr>\n",
       "    <tr>\n",
       "      <th>CustomerID</th>\n",
       "      <th></th>\n",
       "      <th></th>\n",
       "      <th></th>\n",
       "      <th></th>\n",
       "      <th></th>\n",
       "      <th></th>\n",
       "      <th></th>\n",
       "      <th></th>\n",
       "    </tr>\n",
       "  </thead>\n",
       "  <tbody>\n",
       "    <tr>\n",
       "      <th>1</th>\n",
       "      <td>Customer_1</td>\n",
       "      <td>63</td>\n",
       "      <td>Male</td>\n",
       "      <td>Los Angeles</td>\n",
       "      <td>17</td>\n",
       "      <td>73.36</td>\n",
       "      <td>236</td>\n",
       "      <td>0</td>\n",
       "    </tr>\n",
       "    <tr>\n",
       "      <th>2</th>\n",
       "      <td>Customer_2</td>\n",
       "      <td>62</td>\n",
       "      <td>Female</td>\n",
       "      <td>New York</td>\n",
       "      <td>1</td>\n",
       "      <td>48.76</td>\n",
       "      <td>172</td>\n",
       "      <td>0</td>\n",
       "    </tr>\n",
       "    <tr>\n",
       "      <th>3</th>\n",
       "      <td>Customer_3</td>\n",
       "      <td>24</td>\n",
       "      <td>Female</td>\n",
       "      <td>Los Angeles</td>\n",
       "      <td>5</td>\n",
       "      <td>85.47</td>\n",
       "      <td>460</td>\n",
       "      <td>0</td>\n",
       "    </tr>\n",
       "    <tr>\n",
       "      <th>4</th>\n",
       "      <td>Customer_4</td>\n",
       "      <td>36</td>\n",
       "      <td>Female</td>\n",
       "      <td>Miami</td>\n",
       "      <td>3</td>\n",
       "      <td>97.94</td>\n",
       "      <td>297</td>\n",
       "      <td>1</td>\n",
       "    </tr>\n",
       "    <tr>\n",
       "      <th>5</th>\n",
       "      <td>Customer_5</td>\n",
       "      <td>46</td>\n",
       "      <td>Female</td>\n",
       "      <td>Miami</td>\n",
       "      <td>19</td>\n",
       "      <td>58.14</td>\n",
       "      <td>266</td>\n",
       "      <td>0</td>\n",
       "    </tr>\n",
       "    <tr>\n",
       "      <th>...</th>\n",
       "      <td>...</td>\n",
       "      <td>...</td>\n",
       "      <td>...</td>\n",
       "      <td>...</td>\n",
       "      <td>...</td>\n",
       "      <td>...</td>\n",
       "      <td>...</td>\n",
       "      <td>...</td>\n",
       "    </tr>\n",
       "    <tr>\n",
       "      <th>99996</th>\n",
       "      <td>Customer_99996</td>\n",
       "      <td>33</td>\n",
       "      <td>Male</td>\n",
       "      <td>Houston</td>\n",
       "      <td>23</td>\n",
       "      <td>55.13</td>\n",
       "      <td>226</td>\n",
       "      <td>1</td>\n",
       "    </tr>\n",
       "    <tr>\n",
       "      <th>99997</th>\n",
       "      <td>Customer_99997</td>\n",
       "      <td>62</td>\n",
       "      <td>Female</td>\n",
       "      <td>New York</td>\n",
       "      <td>19</td>\n",
       "      <td>61.65</td>\n",
       "      <td>351</td>\n",
       "      <td>0</td>\n",
       "    </tr>\n",
       "    <tr>\n",
       "      <th>99998</th>\n",
       "      <td>Customer_99998</td>\n",
       "      <td>64</td>\n",
       "      <td>Male</td>\n",
       "      <td>Chicago</td>\n",
       "      <td>17</td>\n",
       "      <td>96.11</td>\n",
       "      <td>251</td>\n",
       "      <td>1</td>\n",
       "    </tr>\n",
       "    <tr>\n",
       "      <th>99999</th>\n",
       "      <td>Customer_99999</td>\n",
       "      <td>51</td>\n",
       "      <td>Female</td>\n",
       "      <td>New York</td>\n",
       "      <td>20</td>\n",
       "      <td>49.25</td>\n",
       "      <td>434</td>\n",
       "      <td>1</td>\n",
       "    </tr>\n",
       "    <tr>\n",
       "      <th>100000</th>\n",
       "      <td>Customer_100000</td>\n",
       "      <td>27</td>\n",
       "      <td>Female</td>\n",
       "      <td>Los Angeles</td>\n",
       "      <td>19</td>\n",
       "      <td>76.57</td>\n",
       "      <td>173</td>\n",
       "      <td>1</td>\n",
       "    </tr>\n",
       "  </tbody>\n",
       "</table>\n",
       "<p>100000 rows × 8 columns</p>\n",
       "</div>"
      ],
      "text/plain": [
       "                       Name  Age  Gender     Location  \\\n",
       "CustomerID                                              \n",
       "1                Customer_1   63    Male  Los Angeles   \n",
       "2                Customer_2   62  Female     New York   \n",
       "3                Customer_3   24  Female  Los Angeles   \n",
       "4                Customer_4   36  Female        Miami   \n",
       "5                Customer_5   46  Female        Miami   \n",
       "...                     ...  ...     ...          ...   \n",
       "99996        Customer_99996   33    Male      Houston   \n",
       "99997        Customer_99997   62  Female     New York   \n",
       "99998        Customer_99998   64    Male      Chicago   \n",
       "99999        Customer_99999   51  Female     New York   \n",
       "100000      Customer_100000   27  Female  Los Angeles   \n",
       "\n",
       "            Subscription_Length_Months  Monthly_Bill  Total_Usage_GB  Churn  \n",
       "CustomerID                                                                   \n",
       "1                                   17         73.36             236      0  \n",
       "2                                    1         48.76             172      0  \n",
       "3                                    5         85.47             460      0  \n",
       "4                                    3         97.94             297      1  \n",
       "5                                   19         58.14             266      0  \n",
       "...                                ...           ...             ...    ...  \n",
       "99996                               23         55.13             226      1  \n",
       "99997                               19         61.65             351      0  \n",
       "99998                               17         96.11             251      1  \n",
       "99999                               20         49.25             434      1  \n",
       "100000                              19         76.57             173      1  \n",
       "\n",
       "[100000 rows x 8 columns]"
      ]
     },
     "execution_count": 47,
     "metadata": {},
     "output_type": "execute_result"
    }
   ],
   "source": [
    "churn_data"
   ]
  },
  {
   "cell_type": "markdown",
   "id": "6206e14e",
   "metadata": {},
   "source": [
    "## Data Exploration"
   ]
  },
  {
   "cell_type": "code",
   "execution_count": 48,
   "id": "8c2069ce",
   "metadata": {},
   "outputs": [
    {
     "name": "stdout",
     "output_type": "stream",
     "text": [
      "Overview of the dataset\n",
      "Number of Rows:  100000\n",
      "Number of Columns:  8\n",
      "Data Features: \n",
      "['Name', 'Age', 'Gender', 'Location', 'Subscription_Length_Months', 'Monthly_Bill', 'Total_Usage_GB', 'Churn']\n"
     ]
    }
   ],
   "source": [
    "print(\"Overview of the dataset\")\n",
    "print(\"Number of Rows: \", churn_data.shape[0])\n",
    "print(\"Number of Columns: \", churn_data.shape[1])\n",
    "print(\"Data Features: \")\n",
    "print(churn_data.columns.tolist())"
   ]
  },
  {
   "cell_type": "code",
   "execution_count": 49,
   "id": "e281c2e6",
   "metadata": {},
   "outputs": [
    {
     "name": "stdout",
     "output_type": "stream",
     "text": [
      "<class 'pandas.core.frame.DataFrame'>\n",
      "Int64Index: 100000 entries, 1 to 100000\n",
      "Data columns (total 8 columns):\n",
      " #   Column                      Non-Null Count   Dtype  \n",
      "---  ------                      --------------   -----  \n",
      " 0   Name                        100000 non-null  object \n",
      " 1   Age                         100000 non-null  int64  \n",
      " 2   Gender                      100000 non-null  object \n",
      " 3   Location                    100000 non-null  object \n",
      " 4   Subscription_Length_Months  100000 non-null  int64  \n",
      " 5   Monthly_Bill                100000 non-null  float64\n",
      " 6   Total_Usage_GB              100000 non-null  int64  \n",
      " 7   Churn                       100000 non-null  int64  \n",
      "dtypes: float64(1), int64(4), object(3)\n",
      "memory usage: 6.9+ MB\n"
     ]
    }
   ],
   "source": [
    "churn_data.info()"
   ]
  },
  {
   "cell_type": "code",
   "execution_count": 50,
   "id": "1857ce5e",
   "metadata": {},
   "outputs": [
    {
     "data": {
      "text/plain": [
       "Name                          0\n",
       "Age                           0\n",
       "Gender                        0\n",
       "Location                      0\n",
       "Subscription_Length_Months    0\n",
       "Monthly_Bill                  0\n",
       "Total_Usage_GB                0\n",
       "Churn                         0\n",
       "dtype: int64"
      ]
     },
     "execution_count": 50,
     "metadata": {},
     "output_type": "execute_result"
    }
   ],
   "source": [
    "# Null values - No null values\n",
    "churn_data.isnull().sum()"
   ]
  },
  {
   "cell_type": "code",
   "execution_count": 51,
   "id": "c2446d55",
   "metadata": {},
   "outputs": [
    {
     "data": {
      "text/plain": [
       "Name                          100000\n",
       "Age                               53\n",
       "Gender                             2\n",
       "Location                           5\n",
       "Subscription_Length_Months        24\n",
       "Monthly_Bill                    7001\n",
       "Total_Usage_GB                   451\n",
       "Churn                              2\n",
       "dtype: int64"
      ]
     },
     "execution_count": 51,
     "metadata": {},
     "output_type": "execute_result"
    }
   ],
   "source": [
    "# Unique values \n",
    "churn_data.nunique()"
   ]
  },
  {
   "cell_type": "code",
   "execution_count": 52,
   "id": "332f31e5",
   "metadata": {},
   "outputs": [
    {
     "data": {
      "text/html": [
       "<div>\n",
       "<style scoped>\n",
       "    .dataframe tbody tr th:only-of-type {\n",
       "        vertical-align: middle;\n",
       "    }\n",
       "\n",
       "    .dataframe tbody tr th {\n",
       "        vertical-align: top;\n",
       "    }\n",
       "\n",
       "    .dataframe thead th {\n",
       "        text-align: right;\n",
       "    }\n",
       "</style>\n",
       "<table border=\"1\" class=\"dataframe\">\n",
       "  <thead>\n",
       "    <tr style=\"text-align: right;\">\n",
       "      <th></th>\n",
       "      <th>Age</th>\n",
       "      <th>Subscription_Length_Months</th>\n",
       "      <th>Monthly_Bill</th>\n",
       "      <th>Total_Usage_GB</th>\n",
       "      <th>Churn</th>\n",
       "    </tr>\n",
       "  </thead>\n",
       "  <tbody>\n",
       "    <tr>\n",
       "      <th>count</th>\n",
       "      <td>100000.000000</td>\n",
       "      <td>100000.000000</td>\n",
       "      <td>100000.000000</td>\n",
       "      <td>100000.000000</td>\n",
       "      <td>100000.000000</td>\n",
       "    </tr>\n",
       "    <tr>\n",
       "      <th>mean</th>\n",
       "      <td>44.027020</td>\n",
       "      <td>12.490100</td>\n",
       "      <td>65.053197</td>\n",
       "      <td>274.393650</td>\n",
       "      <td>0.497790</td>\n",
       "    </tr>\n",
       "    <tr>\n",
       "      <th>std</th>\n",
       "      <td>15.280283</td>\n",
       "      <td>6.926461</td>\n",
       "      <td>20.230696</td>\n",
       "      <td>130.463063</td>\n",
       "      <td>0.499998</td>\n",
       "    </tr>\n",
       "    <tr>\n",
       "      <th>min</th>\n",
       "      <td>18.000000</td>\n",
       "      <td>1.000000</td>\n",
       "      <td>30.000000</td>\n",
       "      <td>50.000000</td>\n",
       "      <td>0.000000</td>\n",
       "    </tr>\n",
       "    <tr>\n",
       "      <th>25%</th>\n",
       "      <td>31.000000</td>\n",
       "      <td>6.000000</td>\n",
       "      <td>47.540000</td>\n",
       "      <td>161.000000</td>\n",
       "      <td>0.000000</td>\n",
       "    </tr>\n",
       "    <tr>\n",
       "      <th>50%</th>\n",
       "      <td>44.000000</td>\n",
       "      <td>12.000000</td>\n",
       "      <td>65.010000</td>\n",
       "      <td>274.000000</td>\n",
       "      <td>0.000000</td>\n",
       "    </tr>\n",
       "    <tr>\n",
       "      <th>75%</th>\n",
       "      <td>57.000000</td>\n",
       "      <td>19.000000</td>\n",
       "      <td>82.640000</td>\n",
       "      <td>387.000000</td>\n",
       "      <td>1.000000</td>\n",
       "    </tr>\n",
       "    <tr>\n",
       "      <th>max</th>\n",
       "      <td>70.000000</td>\n",
       "      <td>24.000000</td>\n",
       "      <td>100.000000</td>\n",
       "      <td>500.000000</td>\n",
       "      <td>1.000000</td>\n",
       "    </tr>\n",
       "  </tbody>\n",
       "</table>\n",
       "</div>"
      ],
      "text/plain": [
       "                 Age  Subscription_Length_Months   Monthly_Bill  \\\n",
       "count  100000.000000               100000.000000  100000.000000   \n",
       "mean       44.027020                   12.490100      65.053197   \n",
       "std        15.280283                    6.926461      20.230696   \n",
       "min        18.000000                    1.000000      30.000000   \n",
       "25%        31.000000                    6.000000      47.540000   \n",
       "50%        44.000000                   12.000000      65.010000   \n",
       "75%        57.000000                   19.000000      82.640000   \n",
       "max        70.000000                   24.000000     100.000000   \n",
       "\n",
       "       Total_Usage_GB          Churn  \n",
       "count   100000.000000  100000.000000  \n",
       "mean       274.393650       0.497790  \n",
       "std        130.463063       0.499998  \n",
       "min         50.000000       0.000000  \n",
       "25%        161.000000       0.000000  \n",
       "50%        274.000000       0.000000  \n",
       "75%        387.000000       1.000000  \n",
       "max        500.000000       1.000000  "
      ]
     },
     "execution_count": 52,
     "metadata": {},
     "output_type": "execute_result"
    }
   ],
   "source": [
    "churn_data.describe()"
   ]
  },
  {
   "cell_type": "markdown",
   "id": "bd1a2be0",
   "metadata": {},
   "source": [
    "## Data Visualization"
   ]
  },
  {
   "cell_type": "code",
   "execution_count": 53,
   "id": "7cf386ac",
   "metadata": {
    "scrolled": false
   },
   "outputs": [
    {
     "data": {
      "image/png": "[encoded data removed]",
      "text/plain": [
       "<Figure size 640x480 with 1 Axes>"
      ]
     },
     "metadata": {},
     "output_type": "display_data"
    }
   ],
   "source": [
    "plt.pie(churn_data['Churn'].value_counts(), labels = ['No', 'Yes'], autopct='%1.1f%%', colors=['red','limegreen']);"
   ]
  },
  {
   "cell_type": "code",
   "execution_count": 54,
   "id": "d182e7af",
   "metadata": {},
   "outputs": [
    {
     "data": {
      "image/png": "[encoded data removed]",
      "text/plain": [
       "<Figure size 640x480 with 1 Axes>"
      ]
     },
     "metadata": {},
     "output_type": "display_data"
    }
   ],
   "source": [
    "\n",
    "sns.set_palette(['deepskyblue','powderblue'])\n",
    "num_bins = 5\n",
    "bins = range(15, max(churn_data['Age']) + num_bins, num_bins)\n",
    "\n",
    "sns.histplot(data=churn_data, x='Age', hue='Churn', multiple='dodge', bins=bins);\n",
    "plt.xticks(bins);\n",
    "\n",
    "plt.title(\"Age wise distribution of Churn\");\n",
    "plt.legend(['Yes','No']);"
   ]
  },
  {
   "cell_type": "code",
   "execution_count": 55,
   "id": "468ff475",
   "metadata": {
    "scrolled": false
   },
   "outputs": [
    {
     "data": {
      "image/png": "[encoded data removed]",
      "text/plain": [
       "<Figure size 640x480 with 1 Axes>"
      ]
     },
     "metadata": {},
     "output_type": "display_data"
    }
   ],
   "source": [
    "sns.set_palette(\"tab10\")\n",
    "sns.countplot(data=churn_data, x='Location', hue='Churn')\n",
    "plt.legend(['No', 'Yes']);\n",
    "plt.title(\"Location vs Churn\");"
   ]
  },
  {
   "cell_type": "code",
   "execution_count": 56,
   "id": "32e3e805",
   "metadata": {},
   "outputs": [
    {
     "data": {
      "image/png": "[encoded data removed]",
      "text/plain": [
       "<Figure size 640x480 with 1 Axes>"
      ]
     },
     "metadata": {},
     "output_type": "display_data"
    },
    {
     "data": {
      "text/plain": [
       "<Figure size 2000x1200 with 0 Axes>"
      ]
     },
     "metadata": {},
     "output_type": "display_data"
    }
   ],
   "source": [
    "# Your data and plot settings\n",
    "sns.set_palette(\"tab10\")\n",
    "sns.set(style=\"whitegrid\")\n",
    "\n",
    "# Create the countplot\n",
    "ax = sns.countplot(data=churn_data, x='Location', hue='Churn')\n",
    "plt.legend(['No', 'Yes'])\n",
    "plt.title(\"Location vs Churn\")\n",
    "\n",
    "# Calculate percentage values\n",
    "total_counts = churn_data.groupby('Location')['Churn'].count()\n",
    "for p in ax.patches:\n",
    "    height = p.get_height()\n",
    "    location = churn_data['Location'].unique()[int(p.get_x())]\n",
    "    churn_status = 'Yes' if p.get_x() > 0 else 'No'\n",
    "    percentage = (height / total_counts[location]) * 100\n",
    "    ax.annotate(f'{percentage:.1f}%', (p.get_x() + p.get_width() / 2., height - 3.5),\n",
    "                ha='center', va='center', fontsize=10, color='black', xytext=(0, 5),\n",
    "                textcoords='offset points')\n",
    "plt.figure(figsize=(20,12));\n",
    "plt.show()"
   ]
  },
  {
   "cell_type": "code",
   "execution_count": 57,
   "id": "c4c0c781",
   "metadata": {
    "scrolled": false
   },
   "outputs": [
    {
     "data": {
      "image/png": "[encoded data removed]",
      "text/plain": [
       "<Figure size 640x480 with 1 Axes>"
      ]
     },
     "metadata": {},
     "output_type": "display_data"
    }
   ],
   "source": [
    "sns.set_palette(['royalblue','turquoise'])\n",
    "sns.countplot(data=churn_data, x='Gender', hue='Churn')\n",
    "plt.legend(['No', 'Yes']);\n",
    "plt.title(\"Location vs Churn\");"
   ]
  },
  {
   "cell_type": "code",
   "execution_count": 118,
   "id": "7d98b42d",
   "metadata": {},
   "outputs": [
    {
     "data": {
      "image/png": "[encoded data removed]",
      "text/plain": [
       "<Figure size 640x480 with 1 Axes>"
      ]
     },
     "metadata": {},
     "output_type": "display_data"
    }
   ],
   "source": [
    "sns.set_palette(['yellow','cyan'])\n",
    "sns.boxplot(data=churn_data, x = 'Churn', y = 'Monthly_Bill');"
   ]
  },
  {
   "cell_type": "code",
   "execution_count": 133,
   "id": "28f95662",
   "metadata": {},
   "outputs": [
    {
     "data": {
      "text/plain": [
       "<Axes: xlabel='Monthly_Bill', ylabel='Count'>"
      ]
     },
     "execution_count": 133,
     "metadata": {},
     "output_type": "execute_result"
    },
    {
     "data": {
      "image/png": "[encoded data removed]",
      "text/plain": [
       "<Figure size 640x480 with 1 Axes>"
      ]
     },
     "metadata": {},
     "output_type": "display_data"
    }
   ],
   "source": [
    "sns.histplot(data=churn_data, x='Monthly_Bill', kde=True, color='blue')"
   ]
  },
  {
   "cell_type": "markdown",
   "id": "772e84b1",
   "metadata": {},
   "source": [
    "From the data visualized above. We can observe that the data has a equal distribution across all the of features. "
   ]
  },
  {
   "cell_type": "markdown",
   "id": "fbd7709b",
   "metadata": {},
   "source": [
    "## Data Preprocessing"
   ]
  },
  {
   "cell_type": "markdown",
   "id": "3a6d90ce",
   "metadata": {},
   "source": [
    "I have used one-hot encoding here to encode the categorical columns because one-hot prevents the machine learning model to establish any ranking or order between the labels in case of a ordinary Label encoder. It helps model to learn better."
   ]
  },
  {
   "cell_type": "code",
   "execution_count": 104,
   "id": "e71b44d1",
   "metadata": {},
   "outputs": [],
   "source": [
    "data = pd.get_dummies(churn_data, columns = ['Gender', 'Location'])"
   ]
  },
  {
   "cell_type": "code",
   "execution_count": 105,
   "id": "c87faa96",
   "metadata": {
    "scrolled": false
   },
   "outputs": [
    {
     "data": {
      "text/html": [
       "<div>\n",
       "<style scoped>\n",
       "    .dataframe tbody tr th:only-of-type {\n",
       "        vertical-align: middle;\n",
       "    }\n",
       "\n",
       "    .dataframe tbody tr th {\n",
       "        vertical-align: top;\n",
       "    }\n",
       "\n",
       "    .dataframe thead th {\n",
       "        text-align: right;\n",
       "    }\n",
       "</style>\n",
       "<table border=\"1\" class=\"dataframe\">\n",
       "  <thead>\n",
       "    <tr style=\"text-align: right;\">\n",
       "      <th></th>\n",
       "      <th>Name</th>\n",
       "      <th>Age</th>\n",
       "      <th>Subscription_Length_Months</th>\n",
       "      <th>Monthly_Bill</th>\n",
       "      <th>Total_Usage_GB</th>\n",
       "      <th>Churn</th>\n",
       "      <th>Gender_Female</th>\n",
       "      <th>Gender_Male</th>\n",
       "      <th>Location_Chicago</th>\n",
       "      <th>Location_Houston</th>\n",
       "      <th>Location_Los Angeles</th>\n",
       "      <th>Location_Miami</th>\n",
       "      <th>Location_New York</th>\n",
       "    </tr>\n",
       "    <tr>\n",
       "      <th>CustomerID</th>\n",
       "      <th></th>\n",
       "      <th></th>\n",
       "      <th></th>\n",
       "      <th></th>\n",
       "      <th></th>\n",
       "      <th></th>\n",
       "      <th></th>\n",
       "      <th></th>\n",
       "      <th></th>\n",
       "      <th></th>\n",
       "      <th></th>\n",
       "      <th></th>\n",
       "      <th></th>\n",
       "    </tr>\n",
       "  </thead>\n",
       "  <tbody>\n",
       "    <tr>\n",
       "      <th>1</th>\n",
       "      <td>Customer_1</td>\n",
       "      <td>63</td>\n",
       "      <td>17</td>\n",
       "      <td>73.36</td>\n",
       "      <td>236</td>\n",
       "      <td>0</td>\n",
       "      <td>0</td>\n",
       "      <td>1</td>\n",
       "      <td>0</td>\n",
       "      <td>0</td>\n",
       "      <td>1</td>\n",
       "      <td>0</td>\n",
       "      <td>0</td>\n",
       "    </tr>\n",
       "    <tr>\n",
       "      <th>2</th>\n",
       "      <td>Customer_2</td>\n",
       "      <td>62</td>\n",
       "      <td>1</td>\n",
       "      <td>48.76</td>\n",
       "      <td>172</td>\n",
       "      <td>0</td>\n",
       "      <td>1</td>\n",
       "      <td>0</td>\n",
       "      <td>0</td>\n",
       "      <td>0</td>\n",
       "      <td>0</td>\n",
       "      <td>0</td>\n",
       "      <td>1</td>\n",
       "    </tr>\n",
       "    <tr>\n",
       "      <th>3</th>\n",
       "      <td>Customer_3</td>\n",
       "      <td>24</td>\n",
       "      <td>5</td>\n",
       "      <td>85.47</td>\n",
       "      <td>460</td>\n",
       "      <td>0</td>\n",
       "      <td>1</td>\n",
       "      <td>0</td>\n",
       "      <td>0</td>\n",
       "      <td>0</td>\n",
       "      <td>1</td>\n",
       "      <td>0</td>\n",
       "      <td>0</td>\n",
       "    </tr>\n",
       "    <tr>\n",
       "      <th>4</th>\n",
       "      <td>Customer_4</td>\n",
       "      <td>36</td>\n",
       "      <td>3</td>\n",
       "      <td>97.94</td>\n",
       "      <td>297</td>\n",
       "      <td>1</td>\n",
       "      <td>1</td>\n",
       "      <td>0</td>\n",
       "      <td>0</td>\n",
       "      <td>0</td>\n",
       "      <td>0</td>\n",
       "      <td>1</td>\n",
       "      <td>0</td>\n",
       "    </tr>\n",
       "    <tr>\n",
       "      <th>5</th>\n",
       "      <td>Customer_5</td>\n",
       "      <td>46</td>\n",
       "      <td>19</td>\n",
       "      <td>58.14</td>\n",
       "      <td>266</td>\n",
       "      <td>0</td>\n",
       "      <td>1</td>\n",
       "      <td>0</td>\n",
       "      <td>0</td>\n",
       "      <td>0</td>\n",
       "      <td>0</td>\n",
       "      <td>1</td>\n",
       "      <td>0</td>\n",
       "    </tr>\n",
       "    <tr>\n",
       "      <th>...</th>\n",
       "      <td>...</td>\n",
       "      <td>...</td>\n",
       "      <td>...</td>\n",
       "      <td>...</td>\n",
       "      <td>...</td>\n",
       "      <td>...</td>\n",
       "      <td>...</td>\n",
       "      <td>...</td>\n",
       "      <td>...</td>\n",
       "      <td>...</td>\n",
       "      <td>...</td>\n",
       "      <td>...</td>\n",
       "      <td>...</td>\n",
       "    </tr>\n",
       "    <tr>\n",
       "      <th>99996</th>\n",
       "      <td>Customer_99996</td>\n",
       "      <td>33</td>\n",
       "      <td>23</td>\n",
       "      <td>55.13</td>\n",
       "      <td>226</td>\n",
       "      <td>1</td>\n",
       "      <td>0</td>\n",
       "      <td>1</td>\n",
       "      <td>0</td>\n",
       "      <td>1</td>\n",
       "      <td>0</td>\n",
       "      <td>0</td>\n",
       "      <td>0</td>\n",
       "    </tr>\n",
       "    <tr>\n",
       "      <th>99997</th>\n",
       "      <td>Customer_99997</td>\n",
       "      <td>62</td>\n",
       "      <td>19</td>\n",
       "      <td>61.65</td>\n",
       "      <td>351</td>\n",
       "      <td>0</td>\n",
       "      <td>1</td>\n",
       "      <td>0</td>\n",
       "      <td>0</td>\n",
       "      <td>0</td>\n",
       "      <td>0</td>\n",
       "      <td>0</td>\n",
       "      <td>1</td>\n",
       "    </tr>\n",
       "    <tr>\n",
       "      <th>99998</th>\n",
       "      <td>Customer_99998</td>\n",
       "      <td>64</td>\n",
       "      <td>17</td>\n",
       "      <td>96.11</td>\n",
       "      <td>251</td>\n",
       "      <td>1</td>\n",
       "      <td>0</td>\n",
       "      <td>1</td>\n",
       "      <td>1</td>\n",
       "      <td>0</td>\n",
       "      <td>0</td>\n",
       "      <td>0</td>\n",
       "      <td>0</td>\n",
       "    </tr>\n",
       "    <tr>\n",
       "      <th>99999</th>\n",
       "      <td>Customer_99999</td>\n",
       "      <td>51</td>\n",
       "      <td>20</td>\n",
       "      <td>49.25</td>\n",
       "      <td>434</td>\n",
       "      <td>1</td>\n",
       "      <td>1</td>\n",
       "      <td>0</td>\n",
       "      <td>0</td>\n",
       "      <td>0</td>\n",
       "      <td>0</td>\n",
       "      <td>0</td>\n",
       "      <td>1</td>\n",
       "    </tr>\n",
       "    <tr>\n",
       "      <th>100000</th>\n",
       "      <td>Customer_100000</td>\n",
       "      <td>27</td>\n",
       "      <td>19</td>\n",
       "      <td>76.57</td>\n",
       "      <td>173</td>\n",
       "      <td>1</td>\n",
       "      <td>1</td>\n",
       "      <td>0</td>\n",
       "      <td>0</td>\n",
       "      <td>0</td>\n",
       "      <td>1</td>\n",
       "      <td>0</td>\n",
       "      <td>0</td>\n",
       "    </tr>\n",
       "  </tbody>\n",
       "</table>\n",
       "<p>100000 rows × 13 columns</p>\n",
       "</div>"
      ],
      "text/plain": [
       "                       Name  Age  Subscription_Length_Months  Monthly_Bill  \\\n",
       "CustomerID                                                                   \n",
       "1                Customer_1   63                          17         73.36   \n",
       "2                Customer_2   62                           1         48.76   \n",
       "3                Customer_3   24                           5         85.47   \n",
       "4                Customer_4   36                           3         97.94   \n",
       "5                Customer_5   46                          19         58.14   \n",
       "...                     ...  ...                         ...           ...   \n",
       "99996        Customer_99996   33                          23         55.13   \n",
       "99997        Customer_99997   62                          19         61.65   \n",
       "99998        Customer_99998   64                          17         96.11   \n",
       "99999        Customer_99999   51                          20         49.25   \n",
       "100000      Customer_100000   27                          19         76.57   \n",
       "\n",
       "            Total_Usage_GB  Churn  Gender_Female  Gender_Male  \\\n",
       "CustomerID                                                      \n",
       "1                      236      0              0            1   \n",
       "2                      172      0              1            0   \n",
       "3                      460      0              1            0   \n",
       "4                      297      1              1            0   \n",
       "5                      266      0              1            0   \n",
       "...                    ...    ...            ...          ...   \n",
       "99996                  226      1              0            1   \n",
       "99997                  351      0              1            0   \n",
       "99998                  251      1              0            1   \n",
       "99999                  434      1              1            0   \n",
       "100000                 173      1              1            0   \n",
       "\n",
       "            Location_Chicago  Location_Houston  Location_Los Angeles  \\\n",
       "CustomerID                                                             \n",
       "1                          0                 0                     1   \n",
       "2                          0                 0                     0   \n",
       "3                          0                 0                     1   \n",
       "4                          0                 0                     0   \n",
       "5                          0                 0                     0   \n",
       "...                      ...               ...                   ...   \n",
       "99996                      0                 1                     0   \n",
       "99997                      0                 0                     0   \n",
       "99998                      1                 0                     0   \n",
       "99999                      0                 0                     0   \n",
       "100000                     0                 0                     1   \n",
       "\n",
       "            Location_Miami  Location_New York  \n",
       "CustomerID                                     \n",
       "1                        0                  0  \n",
       "2                        0                  1  \n",
       "3                        0                  0  \n",
       "4                        1                  0  \n",
       "5                        1                  0  \n",
       "...                    ...                ...  \n",
       "99996                    0                  0  \n",
       "99997                    0                  1  \n",
       "99998                    0                  0  \n",
       "99999                    0                  1  \n",
       "100000                   0                  0  \n",
       "\n",
       "[100000 rows x 13 columns]"
      ]
     },
     "execution_count": 105,
     "metadata": {},
     "output_type": "execute_result"
    }
   ],
   "source": [
    "data"
   ]
  },
  {
   "cell_type": "code",
   "execution_count": 106,
   "id": "61630661",
   "metadata": {
    "scrolled": true
   },
   "outputs": [],
   "source": [
    "## Dropping Name since Customer ID is a unique id to identify the customer\n",
    "data.drop(columns=['Name'], inplace = True)"
   ]
  },
  {
   "cell_type": "code",
   "execution_count": 107,
   "id": "d1845767",
   "metadata": {
    "scrolled": false
   },
   "outputs": [
    {
     "data": {
      "text/html": [
       "<div>\n",
       "<style scoped>\n",
       "    .dataframe tbody tr th:only-of-type {\n",
       "        vertical-align: middle;\n",
       "    }\n",
       "\n",
       "    .dataframe tbody tr th {\n",
       "        vertical-align: top;\n",
       "    }\n",
       "\n",
       "    .dataframe thead th {\n",
       "        text-align: right;\n",
       "    }\n",
       "</style>\n",
       "<table border=\"1\" class=\"dataframe\">\n",
       "  <thead>\n",
       "    <tr style=\"text-align: right;\">\n",
       "      <th></th>\n",
       "      <th>Age</th>\n",
       "      <th>Subscription_Length_Months</th>\n",
       "      <th>Monthly_Bill</th>\n",
       "      <th>Total_Usage_GB</th>\n",
       "      <th>Churn</th>\n",
       "      <th>Gender_Female</th>\n",
       "      <th>Gender_Male</th>\n",
       "      <th>Location_Chicago</th>\n",
       "      <th>Location_Houston</th>\n",
       "      <th>Location_Los Angeles</th>\n",
       "      <th>Location_Miami</th>\n",
       "      <th>Location_New York</th>\n",
       "    </tr>\n",
       "    <tr>\n",
       "      <th>CustomerID</th>\n",
       "      <th></th>\n",
       "      <th></th>\n",
       "      <th></th>\n",
       "      <th></th>\n",
       "      <th></th>\n",
       "      <th></th>\n",
       "      <th></th>\n",
       "      <th></th>\n",
       "      <th></th>\n",
       "      <th></th>\n",
       "      <th></th>\n",
       "      <th></th>\n",
       "    </tr>\n",
       "  </thead>\n",
       "  <tbody>\n",
       "    <tr>\n",
       "      <th>1</th>\n",
       "      <td>63</td>\n",
       "      <td>17</td>\n",
       "      <td>73.36</td>\n",
       "      <td>236</td>\n",
       "      <td>0</td>\n",
       "      <td>0</td>\n",
       "      <td>1</td>\n",
       "      <td>0</td>\n",
       "      <td>0</td>\n",
       "      <td>1</td>\n",
       "      <td>0</td>\n",
       "      <td>0</td>\n",
       "    </tr>\n",
       "    <tr>\n",
       "      <th>2</th>\n",
       "      <td>62</td>\n",
       "      <td>1</td>\n",
       "      <td>48.76</td>\n",
       "      <td>172</td>\n",
       "      <td>0</td>\n",
       "      <td>1</td>\n",
       "      <td>0</td>\n",
       "      <td>0</td>\n",
       "      <td>0</td>\n",
       "      <td>0</td>\n",
       "      <td>0</td>\n",
       "      <td>1</td>\n",
       "    </tr>\n",
       "    <tr>\n",
       "      <th>3</th>\n",
       "      <td>24</td>\n",
       "      <td>5</td>\n",
       "      <td>85.47</td>\n",
       "      <td>460</td>\n",
       "      <td>0</td>\n",
       "      <td>1</td>\n",
       "      <td>0</td>\n",
       "      <td>0</td>\n",
       "      <td>0</td>\n",
       "      <td>1</td>\n",
       "      <td>0</td>\n",
       "      <td>0</td>\n",
       "    </tr>\n",
       "    <tr>\n",
       "      <th>4</th>\n",
       "      <td>36</td>\n",
       "      <td>3</td>\n",
       "      <td>97.94</td>\n",
       "      <td>297</td>\n",
       "      <td>1</td>\n",
       "      <td>1</td>\n",
       "      <td>0</td>\n",
       "      <td>0</td>\n",
       "      <td>0</td>\n",
       "      <td>0</td>\n",
       "      <td>1</td>\n",
       "      <td>0</td>\n",
       "    </tr>\n",
       "    <tr>\n",
       "      <th>5</th>\n",
       "      <td>46</td>\n",
       "      <td>19</td>\n",
       "      <td>58.14</td>\n",
       "      <td>266</td>\n",
       "      <td>0</td>\n",
       "      <td>1</td>\n",
       "      <td>0</td>\n",
       "      <td>0</td>\n",
       "      <td>0</td>\n",
       "      <td>0</td>\n",
       "      <td>1</td>\n",
       "      <td>0</td>\n",
       "    </tr>\n",
       "    <tr>\n",
       "      <th>...</th>\n",
       "      <td>...</td>\n",
       "      <td>...</td>\n",
       "      <td>...</td>\n",
       "      <td>...</td>\n",
       "      <td>...</td>\n",
       "      <td>...</td>\n",
       "      <td>...</td>\n",
       "      <td>...</td>\n",
       "      <td>...</td>\n",
       "      <td>...</td>\n",
       "      <td>...</td>\n",
       "      <td>...</td>\n",
       "    </tr>\n",
       "    <tr>\n",
       "      <th>99996</th>\n",
       "      <td>33</td>\n",
       "      <td>23</td>\n",
       "      <td>55.13</td>\n",
       "      <td>226</td>\n",
       "      <td>1</td>\n",
       "      <td>0</td>\n",
       "      <td>1</td>\n",
       "      <td>0</td>\n",
       "      <td>1</td>\n",
       "      <td>0</td>\n",
       "      <td>0</td>\n",
       "      <td>0</td>\n",
       "    </tr>\n",
       "    <tr>\n",
       "      <th>99997</th>\n",
       "      <td>62</td>\n",
       "      <td>19</td>\n",
       "      <td>61.65</td>\n",
       "      <td>351</td>\n",
       "      <td>0</td>\n",
       "      <td>1</td>\n",
       "      <td>0</td>\n",
       "      <td>0</td>\n",
       "      <td>0</td>\n",
       "      <td>0</td>\n",
       "      <td>0</td>\n",
       "      <td>1</td>\n",
       "    </tr>\n",
       "    <tr>\n",
       "      <th>99998</th>\n",
       "      <td>64</td>\n",
       "      <td>17</td>\n",
       "      <td>96.11</td>\n",
       "      <td>251</td>\n",
       "      <td>1</td>\n",
       "      <td>0</td>\n",
       "      <td>1</td>\n",
       "      <td>1</td>\n",
       "      <td>0</td>\n",
       "      <td>0</td>\n",
       "      <td>0</td>\n",
       "      <td>0</td>\n",
       "    </tr>\n",
       "    <tr>\n",
       "      <th>99999</th>\n",
       "      <td>51</td>\n",
       "      <td>20</td>\n",
       "      <td>49.25</td>\n",
       "      <td>434</td>\n",
       "      <td>1</td>\n",
       "      <td>1</td>\n",
       "      <td>0</td>\n",
       "      <td>0</td>\n",
       "      <td>0</td>\n",
       "      <td>0</td>\n",
       "      <td>0</td>\n",
       "      <td>1</td>\n",
       "    </tr>\n",
       "    <tr>\n",
       "      <th>100000</th>\n",
       "      <td>27</td>\n",
       "      <td>19</td>\n",
       "      <td>76.57</td>\n",
       "      <td>173</td>\n",
       "      <td>1</td>\n",
       "      <td>1</td>\n",
       "      <td>0</td>\n",
       "      <td>0</td>\n",
       "      <td>0</td>\n",
       "      <td>1</td>\n",
       "      <td>0</td>\n",
       "      <td>0</td>\n",
       "    </tr>\n",
       "  </tbody>\n",
       "</table>\n",
       "<p>100000 rows × 12 columns</p>\n",
       "</div>"
      ],
      "text/plain": [
       "            Age  Subscription_Length_Months  Monthly_Bill  Total_Usage_GB  \\\n",
       "CustomerID                                                                  \n",
       "1            63                          17         73.36             236   \n",
       "2            62                           1         48.76             172   \n",
       "3            24                           5         85.47             460   \n",
       "4            36                           3         97.94             297   \n",
       "5            46                          19         58.14             266   \n",
       "...         ...                         ...           ...             ...   \n",
       "99996        33                          23         55.13             226   \n",
       "99997        62                          19         61.65             351   \n",
       "99998        64                          17         96.11             251   \n",
       "99999        51                          20         49.25             434   \n",
       "100000       27                          19         76.57             173   \n",
       "\n",
       "            Churn  Gender_Female  Gender_Male  Location_Chicago  \\\n",
       "CustomerID                                                        \n",
       "1               0              0            1                 0   \n",
       "2               0              1            0                 0   \n",
       "3               0              1            0                 0   \n",
       "4               1              1            0                 0   \n",
       "5               0              1            0                 0   \n",
       "...           ...            ...          ...               ...   \n",
       "99996           1              0            1                 0   \n",
       "99997           0              1            0                 0   \n",
       "99998           1              0            1                 1   \n",
       "99999           1              1            0                 0   \n",
       "100000          1              1            0                 0   \n",
       "\n",
       "            Location_Houston  Location_Los Angeles  Location_Miami  \\\n",
       "CustomerID                                                           \n",
       "1                          0                     1               0   \n",
       "2                          0                     0               0   \n",
       "3                          0                     1               0   \n",
       "4                          0                     0               1   \n",
       "5                          0                     0               1   \n",
       "...                      ...                   ...             ...   \n",
       "99996                      1                     0               0   \n",
       "99997                      0                     0               0   \n",
       "99998                      0                     0               0   \n",
       "99999                      0                     0               0   \n",
       "100000                     0                     1               0   \n",
       "\n",
       "            Location_New York  \n",
       "CustomerID                     \n",
       "1                           0  \n",
       "2                           1  \n",
       "3                           0  \n",
       "4                           0  \n",
       "5                           0  \n",
       "...                       ...  \n",
       "99996                       0  \n",
       "99997                       1  \n",
       "99998                       0  \n",
       "99999                       1  \n",
       "100000                      0  \n",
       "\n",
       "[100000 rows x 12 columns]"
      ]
     },
     "execution_count": 107,
     "metadata": {},
     "output_type": "execute_result"
    }
   ],
   "source": [
    "data"
   ]
  },
  {
   "cell_type": "code",
   "execution_count": 108,
   "id": "f75fc3e6",
   "metadata": {
    "scrolled": false
   },
   "outputs": [
    {
     "data": {
      "text/plain": [
       "<Axes: >"
      ]
     },
     "execution_count": 108,
     "metadata": {},
     "output_type": "execute_result"
    },
    {
     "data": {
      "image/png": "[encoded data removed]",
      "text/plain": [
       "<Figure size 640x480 with 2 Axes>"
      ]
     },
     "metadata": {},
     "output_type": "display_data"
    }
   ],
   "source": [
    "sns.heatmap(data.corr())"
   ]
  },
  {
   "cell_type": "markdown",
   "id": "62cca063",
   "metadata": {},
   "source": [
    "The above heatmap shows that the relation between the target variable and other features is very low. This will adversely affect the model performance. "
   ]
  },
  {
   "cell_type": "markdown",
   "id": "ff1e1431",
   "metadata": {},
   "source": [
    "## Modelling"
   ]
  },
  {
   "cell_type": "code",
   "execution_count": 109,
   "id": "6fd09db5",
   "metadata": {},
   "outputs": [],
   "source": [
    "X = data.drop(columns=['Churn'])\n",
    "y = data[['Churn']]\n",
    "X_train, X_test, y_train, y_test = train_test_split(X, y, test_size = 0.2, random_state=42)"
   ]
  },
  {
   "cell_type": "code",
   "execution_count": 110,
   "id": "2434d1c7",
   "metadata": {},
   "outputs": [
    {
     "name": "stdout",
     "output_type": "stream",
     "text": [
      "Shape of Training Data:  (80000, 11) (80000, 1)\n",
      "Shape of Testing Data:  (20000, 11) (20000, 1)\n"
     ]
    }
   ],
   "source": [
    "print(\"Shape of Training Data: \", X_train.shape, y_train.shape)\n",
    "print(\"Shape of Testing Data: \", X_test.shape, y_test.shape)"
   ]
  },
  {
   "cell_type": "code",
   "execution_count": 112,
   "id": "cb3a65d2",
   "metadata": {},
   "outputs": [],
   "source": [
    "names = [\n",
    "    \"Nearest Neighbors\",  \n",
    "    \"Decision Tree\", \n",
    "    \"Random Forest\",  \n",
    "    \"AdaBoost\", \n",
    "    \"Naive Bayes\", \n",
    "    \"XGBoost\",\n",
    "    \"CatBoost\",\n",
    "    \"LightGBM\"\n",
    "]\n",
    "\n",
    "classifiers = [\n",
    "    KNeighborsClassifier(2),  \n",
    "    DecisionTreeClassifier(max_depth = 5), \n",
    "    RandomForestClassifier(max_depth=5, n_estimators=10, max_features=1), \n",
    "    AdaBoostClassifier(), \n",
    "    GaussianNB(), \n",
    "    xgb.XGBClassifier(),\n",
    "    CatBoostClassifier(verbose=False), \n",
    "    LGBMClassifier() \n",
    "    \n",
    "]\n",
    "\n",
    "results = pd.DataFrame(columns=[\"Model\", \"Accuracy\", \"F1-Score\", \"Recall\", \"Precision\", \"ROC AUC\"])"
   ]
  },
  {
   "cell_type": "code",
   "execution_count": 152,
   "id": "0637acdb",
   "metadata": {},
   "outputs": [
    {
     "name": "stdout",
     "output_type": "stream",
     "text": [
      "            Model  Accuracy  F1-Score   Recall  Precision  ROC AUC\n",
      "Nearest Neighbors  0.501997  0.462198 0.495653   0.494160 0.495886\n",
      "    Decision Tree  0.500270  0.495015 0.495480   0.495459 0.499412\n",
      "    Random Forest  0.500501  0.492695 0.494498   0.494409 0.493492\n",
      "         AdaBoost  0.500442  0.501759 0.503108   0.503147 0.501754\n",
      "      Naive Bayes  0.500833  0.498644 0.503817   0.503994 0.503347\n",
      "          XGBoost  0.500077  0.498655 0.498672   0.498672 0.498772\n",
      "         CatBoost  0.500173  0.492460 0.492626   0.492612 0.492773\n",
      "         LightGBM  0.500424  0.497380 0.498626   0.498610 0.496269\n",
      "Nearest Neighbors  0.501997  0.462198 0.495653   0.494160 0.495886\n",
      "    Decision Tree  0.500270  0.495015 0.495480   0.495459 0.499412\n",
      "    Random Forest  0.500804  0.494553 0.499396   0.499370 0.496759\n",
      "         AdaBoost  0.500442  0.501759 0.503108   0.503147 0.501754\n",
      "      Naive Bayes  0.500833  0.498644 0.503817   0.503994 0.503347\n",
      "          XGBoost  0.500077  0.498655 0.498672   0.498672 0.498772\n",
      "         CatBoost  0.500173  0.492460 0.492626   0.492612 0.492773\n",
      "         LightGBM  0.500424  0.497380 0.498626   0.498610 0.496269\n"
     ]
    }
   ],
   "source": [
    "warnings.filterwarnings(\"ignore\")\n",
    "\n",
    "for name, clf in zip(names, classifiers):\n",
    "    clf = make_pipeline(StandardScaler(), clf) \n",
    "    clf.fit(X_train, y_train) \n",
    "    y_pred = clf.predict(X_test) \n",
    "    y_prob = clf.predict_proba(X_test)[:, 1] if hasattr(clf, \"predict_proba\") else None\n",
    "    \n",
    "    accuracy = np.mean(y_pred==[y_test]) \n",
    "    f1 = classification_report(y_test, y_pred, output_dict = True)[\"macro avg\"][\"f1-score\"]\n",
    "    recall = classification_report(y_test, y_pred, output_dict = True)[\"macro avg\"][\"recall\"]\n",
    "    precision = classification_report(y_test, y_pred, output_dict = True)[\"macro avg\"][\"precision\"]\n",
    "    roc_auc = roc_auc_score(y_test, y_prob) if y_prob is not None else None \n",
    "    \n",
    "    results = results.append({\"Model\": name, \"Accuracy\": accuracy, \"F1-Score\": f1, \"Recall\" : recall, \"Precision\": precision, \"ROC AUC\": roc_auc}, ignore_index=True)\n",
    "\n",
    "    \n",
    "print(results.to_string(index = False))"
   ]
  },
  {
   "cell_type": "markdown",
   "id": "84860863",
   "metadata": {},
   "source": [
    "From above we can see that Adaboost, LightGBM and XGBoost models were among the top scorer. Hence we continue with these models and try different hyperparameters to obtain the best results."
   ]
  },
  {
   "cell_type": "markdown",
   "id": "7d17b821",
   "metadata": {},
   "source": [
    "## Hyperparameter tuning"
   ]
  },
  {
   "cell_type": "code",
   "execution_count": 114,
   "id": "a0b9c87c",
   "metadata": {
    "scrolled": true
   },
   "outputs": [
    {
     "name": "stdout",
     "output_type": "stream",
     "text": [
      "Best Hyperparameters  {'n_estimators': 140, 'learning_rate': 0.2, 'algorithm': 'SAMME.R'}\n",
      "Best Score  0.5027125\n"
     ]
    }
   ],
   "source": [
    "adaboost = AdaBoostClassifier() \n",
    "\n",
    "param_dist = {\n",
    "    'n_estimators': np.arange(50, 300, 10), \n",
    "    'learning_rate': [0.01, 0.1, 0.2, 0.3, 0.5], \n",
    "    'algorithm': ['SAMME', \"SAMME.R\"]\n",
    "}\n",
    "\n",
    "random_search = RandomizedSearchCV(adaboost, param_distributions=param_dist, n_iter=10, cv=5, random_state = 42)\n",
    "\n",
    "random_search.fit(X_train, y_train) \n",
    "\n",
    "print(\"Best Hyperparameters \", random_search.best_params_)\n",
    "print(\"Best Score \", random_search.best_score_)"
   ]
  },
  {
   "cell_type": "code",
   "execution_count": 116,
   "id": "b3ba91b1",
   "metadata": {},
   "outputs": [
    {
     "name": "stdout",
     "output_type": "stream",
     "text": [
      "Fitting 3 folds for each of 100 candidates, totalling 300 fits\n",
      "Best Hyperparameters: {'colsample_bytree': 0.679536961635522, 'gamma': 0.2, 'learning_rate': 0.2470526621593617, 'max_depth': 5, 'min_child_weight': 1, 'n_estimators': 283, 'subsample': 0.7433862914177091}\n",
      "Best Score: 0.5035749782820957\n"
     ]
    }
   ],
   "source": [
    "# Create an XGBoost classifier\n",
    "xgb_classifier = xgb.XGBClassifier()\n",
    "\n",
    "# Define hyperparameter ranges for RandomizedSearchCV\n",
    "param_dist = {\n",
    "    'n_estimators': randint(50, 300),\n",
    "    'max_depth': randint(3, 10),\n",
    "    'learning_rate': uniform(0.01, 0.3),\n",
    "    'subsample': uniform(0.6, 0.4),\n",
    "    'colsample_bytree': uniform(0.6, 0.4),\n",
    "    'gamma': [0, 0.1, 0.2, 0.3, 0.4],\n",
    "    'min_child_weight': [1, 3, 5, 7],\n",
    "}\n",
    "\n",
    "# Create RandomizedSearchCV\n",
    "random_search = RandomizedSearchCV(\n",
    "    xgb_classifier,\n",
    "    param_distributions=param_dist,\n",
    "    n_iter=100,  # Number of parameter settings that are sampled\n",
    "    scoring='accuracy',  # Use appropriate metric\n",
    "    cv=3,  # Number of cross-validation folds\n",
    "    verbose=1,\n",
    "    random_state=42,\n",
    "    n_jobs=-1,  # Use all available CPU cores\n",
    ")\n",
    "\n",
    "# Perform RandomizedSearchCV on the training data\n",
    "random_search.fit(X_train, y_train)\n",
    "\n",
    "# Print the best hyperparameters and corresponding score\n",
    "print(\"Best Hyperparameters:\", random_search.best_params_)\n",
    "print(\"Best Score:\", random_search.best_score_)"
   ]
  },
  {
   "cell_type": "code",
   "execution_count": 121,
   "id": "b46d0a43",
   "metadata": {},
   "outputs": [
    {
     "name": "stdout",
     "output_type": "stream",
     "text": [
      "Fitting 3 folds for each of 100 candidates, totalling 300 fits\n",
      "Best Hyperparameters: {'colsample_bytree': 0.821105986734196, 'learning_rate': 0.1816877407512515, 'max_depth': 6, 'min_child_samples': 72, 'n_estimators': 352, 'subsample': 0.7540390914407701}\n",
      "Best Score: 0.5038375007824589\n"
     ]
    }
   ],
   "source": [
    "# Create an LGBM classifier\n",
    "lgbm_classifier = LGBMClassifier()\n",
    "\n",
    "# Define hyperparameter ranges for RandomizedSearchCV\n",
    "param_dist = {\n",
    "    'n_estimators': randint(100, 500),\n",
    "    'max_depth': randint(3, 10),\n",
    "    'learning_rate': uniform(0.01, 0.3),\n",
    "    'subsample': uniform(0.6, 0.4),\n",
    "    'colsample_bytree': uniform(0.6, 0.4),\n",
    "    'min_child_samples': randint(10, 100),\n",
    "}\n",
    "\n",
    "# Create RandomizedSearchCV\n",
    "random_search = RandomizedSearchCV(\n",
    "    lgbm_classifier,\n",
    "    param_distributions=param_dist,\n",
    "    n_iter=100,  # Number of parameter settings that are sampled\n",
    "    scoring='accuracy',  # Use appropriate metric\n",
    "    cv=3,  # Number of cross-validation folds\n",
    "    verbose=1,\n",
    "    random_state=42,\n",
    "    n_jobs=-1,  # Use all available CPU cores\n",
    ")\n",
    "\n",
    "# Perform RandomizedSearchCV on the training data\n",
    "random_search.fit(X_train, y_train)\n",
    "\n",
    "# Print the best hyperparameters and corresponding score\n",
    "print(\"Best Hyperparameters:\", random_search.best_params_)\n",
    "print(\"Best Score:\", random_search.best_score_)"
   ]
  },
  {
   "cell_type": "markdown",
   "id": "22a84fad",
   "metadata": {},
   "source": [
    "## Emsembling of top models"
   ]
  },
  {
   "cell_type": "code",
   "execution_count": 139,
   "id": "9c894447",
   "metadata": {
    "scrolled": false
   },
   "outputs": [
    {
     "name": "stdout",
     "output_type": "stream",
     "text": [
      "Ensemble Accuracy: 0.5029\n"
     ]
    }
   ],
   "source": [
    "adaboost = AdaBoostClassifier(n_estimators= 140, learning_rate=0.2, algorithm='SAMME.R') \n",
    "lgbm_model = LGBMClassifier(colsample_bytree= 0.821105986734196, max_depth= 6, learning_rate= 0.1816877407512515, subsample= 0.7540390914407701, min_child_samples =  72, n_estimators= 352) \n",
    "xgb_model = xgb.XGBClassifier(colsample_bytree= 0.679536961635522, gamma=0.2, learning_rate=0.2470526621593617, max_depth= 5, min_child_weight= 1, n_estimators= 283, subsample= 0.7433862914177091) \n",
    "\n",
    "\n",
    "ensemble = VotingClassifier(\n",
    "    estimators = [\n",
    "        ('lgbm', lgbm_model), \n",
    "        ('xgb', xgb_model),\n",
    "        ('adaboost',adaboost)\n",
    "    ], \n",
    "    voting = 'hard'\n",
    "            \n",
    ")\n",
    "\n",
    "ensemble.fit(X_train, y_train)\n",
    "\n",
    "\n",
    "\n",
    "# Make predictions using the ensemble\n",
    "ensemble_predictions = ensemble.predict(X_test)\n",
    "\n",
    "# Calculate accuracy\n",
    "accuracy = accuracy_score(y_test, ensemble_predictions)\n",
    "print(\"Ensemble Accuracy:\", accuracy)"
   ]
  },
  {
   "cell_type": "code",
   "execution_count": 144,
   "id": "bd4de451",
   "metadata": {},
   "outputs": [
    {
     "data": {
      "text/plain": [
       "array([1], dtype=int64)"
      ]
     },
     "execution_count": 144,
     "metadata": {},
     "output_type": "execute_result"
    }
   ],
   "source": [
    "ensemble.predict(np.array(X_train.iloc[0]).reshape(1,-1))"
   ]
  },
  {
   "cell_type": "markdown",
   "id": "5b2b9276",
   "metadata": {},
   "source": [
    "## Saving the model"
   ]
  },
  {
   "cell_type": "code",
   "execution_count": 148,
   "id": "1a64dc60",
   "metadata": {},
   "outputs": [
    {
     "name": "stdout",
     "output_type": "stream",
     "text": [
      "Model saved as churn_model.joblib\n"
     ]
    }
   ],
   "source": [
    "model_filename = 'churn_model.joblib'\n",
    "joblib.dump(ensemble, model_filename)\n",
    "print(f\"Model saved as {model_filename}\")"
   ]
  }
 ],
 "metadata": {
  "kernelspec": {
   "display_name": "Python 3 (ipykernel)",
   "language": "python",
   "name": "python3"
  },
  "language_info": {
   "codemirror_mode": {
    "name": "ipython",
    "version": 3
   },
   "file_extension": ".py",
   "mimetype": "text/x-python",
   "name": "python",
   "nbconvert_exporter": "python",
   "pygments_lexer": "ipython3",
   "version": "3.9.13"
  }
 },
 "nbformat": 4,
 "nbformat_minor": 5
}
